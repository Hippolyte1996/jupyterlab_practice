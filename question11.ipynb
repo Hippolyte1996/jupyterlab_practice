{
 "cells": [
  {
   "cell_type": "markdown",
   "id": "330e6220-57d1-482c-8ea4-90f2dfd86d60",
   "metadata": {},
   "source": [
    "# Hippolyte Gallot\n",
    "Notebook for assignment 7"
   ]
  },
  {
   "cell_type": "code",
   "execution_count": 4,
   "id": "5b3e24bd-43a2-4ca1-a624-216ff83f2e1d",
   "metadata": {},
   "outputs": [
    {
     "name": "stdout",
     "output_type": "stream",
     "text": [
      "5.0\n"
     ]
    }
   ],
   "source": [
    "def compute_mean(data):\n",
    "    print(sum(data)/len(data))\n",
    "    \n",
    "compute_mean([2, 4, 6, 8])"
   ]
  },
  {
   "cell_type": "markdown",
   "id": "4ddc8fbf-f23e-41e7-9902-d989c348c215",
   "metadata": {},
   "source": [
    "The two equations below describe how to calculate the average - or mean - of a list of numbers. \n",
    "\n",
    "The first equation is one way to express the average, the nominator sums all numbers in the list of numbers from the first one ( $x_1$) to the n'th number in the list ($x_n$). The denominator is the number of items in the lis of numbers that we want to calculate the average for. This is the simplest way to express the average in mathematics. \n",
    "\n",
    "The second equation is a more complicated but more efficient way to display the average, specially if you have a large list of numbers to make an average from. There's two elements to the equation which are multiplied: the $ \\frac{1}{n}$ part and the summation part. First, the summation part of the equation  ($ \\sum_{i=1}^n x_i $) means that it will sum all numbers from the list that you give it from the first number to the last ($ x_i $) where i is the last number. This summation is then multiplied to $ \\frac{1}{n}$, what this does is effectively divide the sum of all numbers from the summation part of th equation with the number of items in the list of  numbers. Another way to visualize this is the third equation where we combine it all together. \n",
    "\n",
    "\n",
    "$$\n",
    "\\bar{x} = \\frac{x_1 + x_2 + ... + x_n}{n} \n",
    "$$\n",
    "\n",
    "$$ \n",
    "\\bar{x} = \\frac{1}{n} \\left(\\sum_{i=1}^n x_i \\right)\n",
    "$$\n",
    "\n",
    "$$\n",
    "\\bar{x} = \\frac{\\sum_{i=1}^n x_i}{{n}}\n",
    "$$"
   ]
  },
  {
   "cell_type": "code",
   "execution_count": null,
   "id": "461c8524-8066-4aa5-beb2-05229db8aec0",
   "metadata": {},
   "outputs": [],
   "source": []
  }
 ],
 "metadata": {
  "kernelspec": {
   "display_name": "Python [conda env:base] *",
   "language": "python",
   "name": "conda-base-py"
  },
  "language_info": {
   "codemirror_mode": {
    "name": "ipython",
    "version": 3
   },
   "file_extension": ".py",
   "mimetype": "text/x-python",
   "name": "python",
   "nbconvert_exporter": "python",
   "pygments_lexer": "ipython3",
   "version": "3.12.3"
  }
 },
 "nbformat": 4,
 "nbformat_minor": 5
}
